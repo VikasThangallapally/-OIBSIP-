{
  "nbformat": 4,
  "nbformat_minor": 0,
  "metadata": {
    "colab": {
      "provenance": [],
      "toc_visible": true,
      "authorship_tag": "ABX9TyNOnrXMcZ02GMfIAB7pgChU",
      "include_colab_link": true
    },
    "kernelspec": {
      "name": "python3",
      "display_name": "Python 3"
    },
    "language_info": {
      "name": "python"
    }
  },
  "cells": [
    {
      "cell_type": "markdown",
      "metadata": {
        "id": "view-in-github",
        "colab_type": "text"
      },
      "source": [
        "<a href=\"https://colab.research.google.com/github/VikasThangallapally/-OIBSIP-/blob/main/StasticIal_ML_ASSESS_1.ipynb\" target=\"_parent\"><img src=\"https://colab.research.google.com/assets/colab-badge.svg\" alt=\"Open In Colab\"/></a>"
      ]
    },
    {
      "cell_type": "code",
      "execution_count": null,
      "metadata": {
        "id": "ftja4KNXOJx2"
      },
      "outputs": [],
      "source": [
        "import pandas as pd\n",
        "import numpy as np\n",
        "import matplotlib.pyplot as plt\n",
        "from scipy import stats"
      ]
    },
    {
      "cell_type": "code",
      "source": [
        " X={2.3,2.5,3.6,2.8,3.1,2.9,3.2,2.7,2.8,3.0}\n",
        "plt.hist(X,bins=5,alpha=0.7,color=\"red\",density=\"true\")\n",
        "plt.title(\"Histogram \")\n",
        "plt.xlabel(\"density\")\n",
        "plt.xlabel(\"value\")\n",
        "plt.show()"
      ],
      "metadata": {
        "colab": {
          "base_uri": "https://localhost:8080/",
          "height": 472
        },
        "id": "2dLbQi4zOtQG",
        "outputId": "22a0098c-6e6a-468c-ab0a-f07df0b6e08d"
      },
      "execution_count": null,
      "outputs": [
        {
          "output_type": "display_data",
          "data": {
            "text/plain": [
              "<Figure size 640x480 with 1 Axes>"
            ],
            "image/png": "[encoded data removed]"
          },
          "metadata": {}
        }
      ]
    },
    {
      "cell_type": "code",
      "source": [
        "import numpy as np\n",
        "import scipy as stats"
      ],
      "metadata": {
        "id": "MQjvahDoUgJS"
      },
      "execution_count": null,
      "outputs": []
    },
    {
      "cell_type": "code",
      "source": [
        "import numpy as np\n",
        "from scipy import stats\n",
        "\n",
        "x = [4, 5, 8, 2, 4, 2, 5]\n",
        "y = [5, 6, 3, 8, 3, 7, 8]\n",
        "\n",
        "print(\"mean of x=\", np.mean(x))\n",
        "print(\"mean of y=\", np.mean(y))\n",
        "print(\"median of x=\", np.median(x))\n",
        "print(\"median of y=\", np.median(y))\n",
        "print(\"mode of x=\", stats.mode(x))\n",
        "print(\"mode of y=\", stats.mode(y))\n",
        "print(\"variance of x=\", np.var(x))\n",
        "print(\"variance of y=\", np.var(y))\n",
        "print(\"range of x=\",np.max(x)-np.min(x))\n",
        "print(\"range of y=\",np.max(y)-np.min(y))\n",
        "print(\"standard deviation of x=\", np.std(x))\n",
        "print(\"standard deviation of y=\", np.std(y))\n",
        "print(\"inqurtile range of x=\", stats.iqr(x))\n",
        "print(\"inqurtile range of x=\", stats.iqr(y))\n",
        "print(\"skewness of x=\", stats.skew(x))\n",
        "print(\"skewness of y=\", stats.skew(y))\n",
        "print(\"kurtosis of x=\", stats.kurtosis(x))\n",
        "print(\"kurtosis of y=\", stats.kurtosis(y))"
      ],
      "metadata": {
        "colab": {
          "base_uri": "https://localhost:8080/"
        },
        "id": "IXcRMHpeUyZR",
        "outputId": "8dc04b7a-1e14-4b7d-b7c3-c5596ea0d580"
      },
      "execution_count": null,
      "outputs": [
        {
          "output_type": "stream",
          "name": "stdout",
          "text": [
            "mean of x= 4.285714285714286\n",
            "mean of y= 5.714285714285714\n",
            "median of x= 4.0\n",
            "median of y= 6.0\n",
            "mode of x= ModeResult(mode=2, count=2)\n",
            "mode of y= ModeResult(mode=3, count=2)\n",
            "variance of x= 3.6326530612244894\n",
            "variance of y= 3.918367346938776\n",
            "range of x= 6\n",
            "range of y= 5\n",
            "standard deviation of x= 1.9059520091609048\n",
            "standard deviation of y= 1.979486637221574\n",
            "inqurtile range of x= 2.0\n",
            "inqurtile range of x= 3.5\n",
            "skewness of x= 0.5785710902698393\n",
            "skewness of y= -0.26386711521557127\n",
            "kurtosis of x= -0.34282287589950755\n",
            "kurtosis of y= -1.4541015625000002\n"
          ]
        }
      ]
    }
  ]
}